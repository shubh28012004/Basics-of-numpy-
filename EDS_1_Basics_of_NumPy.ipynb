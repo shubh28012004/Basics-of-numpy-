{
  "nbformat": 4,
  "nbformat_minor": 0,
  "metadata": {
    "colab": {
      "provenance": [],
      "authorship_tag": "ABX9TyM0p+5TNqtzoIhXoxkphY9x",
      "include_colab_link": true
    },
    "kernelspec": {
      "name": "python3",
      "display_name": "Python 3"
    },
    "language_info": {
      "name": "python"
    }
  },
  "cells": [
    {
      "cell_type": "markdown",
      "metadata": {
        "id": "view-in-github",
        "colab_type": "text"
      },
      "source": [
        "<a href=\"https://colab.research.google.com/github/shubh28012004/Basics-of-numpy-/blob/main/EDS_1_Basics_of_NumPy.ipynb\" target=\"_parent\"><img src=\"https://colab.research.google.com/assets/colab-badge.svg\" alt=\"Open In Colab\"/></a>"
      ]
    },
    {
      "cell_type": "markdown",
      "source": [
        "NumPy\n",
        "is incredibly fast and used as linear algebra for python ."
      ],
      "metadata": {
        "id": "GxlxYs10WJFw"
      }
    },
    {
      "cell_type": "code",
      "execution_count": 2,
      "metadata": {
        "id": "GNt6fQaAU-6s"
      },
      "outputs": [],
      "source": [
        "import numpy as np"
      ]
    },
    {
      "cell_type": "markdown",
      "source": [
        "Numpy has many built-in in functions and capabilities . Important aspects covered are :\n",
        "\n",
        "\n",
        "1.   vectors\n",
        "2.   arrays\n",
        "3.   Number generation\n",
        "\n"
      ],
      "metadata": {
        "id": "udmNtISdX2fX"
      }
    },
    {
      "cell_type": "markdown",
      "source": [
        "**Numpy Arryas**\n",
        "essentially comes in two flavours : Vectors and matrices"
      ],
      "metadata": {
        "id": "gzXlmRD6YWY0"
      }
    },
    {
      "cell_type": "markdown",
      "source": [
        "**Creating NumPy Arrays**"
      ],
      "metadata": {
        "id": "rfP8Hb98YzV9"
      }
    },
    {
      "cell_type": "code",
      "source": [
        "my_list = [1,2,3]\n",
        "print(my_list)"
      ],
      "metadata": {
        "colab": {
          "base_uri": "https://localhost:8080/"
        },
        "id": "0uxJdGH1Xwka",
        "outputId": "8abe11c5-d1bc-47fe-a877-0e2242273d65"
      },
      "execution_count": 3,
      "outputs": [
        {
          "output_type": "stream",
          "name": "stdout",
          "text": [
            "[1, 2, 3]\n"
          ]
        }
      ]
    },
    {
      "cell_type": "code",
      "source": [
        "np.array(my_list)\n",
        "my_list\n"
      ],
      "metadata": {
        "colab": {
          "base_uri": "https://localhost:8080/"
        },
        "id": "JD4kvq8PZKp4",
        "outputId": "a1a39463-12db-4209-e0f6-358faee5bdd7"
      },
      "execution_count": 6,
      "outputs": [
        {
          "output_type": "execute_result",
          "data": {
            "text/plain": [
              "[1, 2, 3]"
            ]
          },
          "metadata": {},
          "execution_count": 6
        }
      ]
    },
    {
      "cell_type": "code",
      "source": [
        "my_matrix = [[1,2,3],[4,5,6],[7,8,9]]\n",
        "my_matrix"
      ],
      "metadata": {
        "colab": {
          "base_uri": "https://localhost:8080/"
        },
        "id": "oOSp13abZV_P",
        "outputId": "8918e01a-ae76-4100-c033-7356e9f9584a"
      },
      "execution_count": 8,
      "outputs": [
        {
          "output_type": "execute_result",
          "data": {
            "text/plain": [
              "[[1, 2, 3], [4, 5, 6], [7, 8, 9]]"
            ]
          },
          "metadata": {},
          "execution_count": 8
        }
      ]
    },
    {
      "cell_type": "code",
      "source": [
        "np.array(my_matrix)\n"
      ],
      "metadata": {
        "colab": {
          "base_uri": "https://localhost:8080/"
        },
        "id": "hkIKQOb6ZnTj",
        "outputId": "e7c2dd99-75a2-400c-82f3-827ea6c43de0"
      },
      "execution_count": 10,
      "outputs": [
        {
          "output_type": "execute_result",
          "data": {
            "text/plain": [
              "array([[1, 2, 3],\n",
              "       [4, 5, 6],\n",
              "       [7, 8, 9]])"
            ]
          },
          "metadata": {},
          "execution_count": 10
        }
      ]
    },
    {
      "cell_type": "markdown",
      "source": [
        "**Built in methods**"
      ],
      "metadata": {
        "id": "2a8A7tSjZ6_V"
      }
    },
    {
      "cell_type": "markdown",
      "source": [
        "1.  arange :- return evenly spaced values within a given interval"
      ],
      "metadata": {
        "id": "0HsTYwukZ_kU"
      }
    },
    {
      "cell_type": "code",
      "source": [
        "np.arange(0,10) # default spacing is 1"
      ],
      "metadata": {
        "colab": {
          "base_uri": "https://localhost:8080/"
        },
        "id": "_J5Sm4VMZxNF",
        "outputId": "87ffb415-a3d7-4461-a507-934f98e3a730"
      },
      "execution_count": 11,
      "outputs": [
        {
          "output_type": "execute_result",
          "data": {
            "text/plain": [
              "array([0, 1, 2, 3, 4, 5, 6, 7, 8, 9])"
            ]
          },
          "metadata": {},
          "execution_count": 11
        }
      ]
    },
    {
      "cell_type": "code",
      "source": [
        "np.arange(0,11,2)"
      ],
      "metadata": {
        "colab": {
          "base_uri": "https://localhost:8080/"
        },
        "id": "aG8xAuySaLKD",
        "outputId": "06163fbb-1a18-4c0b-d9a2-4306afcd0bcd"
      },
      "execution_count": 12,
      "outputs": [
        {
          "output_type": "execute_result",
          "data": {
            "text/plain": [
              "array([ 0,  2,  4,  6,  8, 10])"
            ]
          },
          "metadata": {},
          "execution_count": 12
        }
      ]
    },
    {
      "cell_type": "code",
      "source": [
        "np.arange(0,50,7)"
      ],
      "metadata": {
        "colab": {
          "base_uri": "https://localhost:8080/"
        },
        "id": "E-mxPhOFaOib",
        "outputId": "3104583c-b659-4360-e909-9eca77f6a15b"
      },
      "execution_count": 13,
      "outputs": [
        {
          "output_type": "execute_result",
          "data": {
            "text/plain": [
              "array([ 0,  7, 14, 21, 28, 35, 42, 49])"
            ]
          },
          "metadata": {},
          "execution_count": 13
        }
      ]
    },
    {
      "cell_type": "code",
      "source": [
        "np.arange(1,101,2)"
      ],
      "metadata": {
        "colab": {
          "base_uri": "https://localhost:8080/"
        },
        "id": "L3ZDeU_9ai8w",
        "outputId": "d228cffe-e834-4e3d-f0dd-b4f253a6ec24"
      },
      "execution_count": 14,
      "outputs": [
        {
          "output_type": "execute_result",
          "data": {
            "text/plain": [
              "array([ 1,  3,  5,  7,  9, 11, 13, 15, 17, 19, 21, 23, 25, 27, 29, 31, 33,\n",
              "       35, 37, 39, 41, 43, 45, 47, 49, 51, 53, 55, 57, 59, 61, 63, 65, 67,\n",
              "       69, 71, 73, 75, 77, 79, 81, 83, 85, 87, 89, 91, 93, 95, 97, 99])"
            ]
          },
          "metadata": {},
          "execution_count": 14
        }
      ]
    },
    {
      "cell_type": "markdown",
      "source": [
        "2. zeros and ones :- Generate arrays of zeros and ones"
      ],
      "metadata": {
        "id": "cAmNLALTadH_"
      }
    },
    {
      "cell_type": "code",
      "source": [
        "np.zeros(3)"
      ],
      "metadata": {
        "colab": {
          "base_uri": "https://localhost:8080/"
        },
        "id": "0lyJZVLVabAU",
        "outputId": "3d780fb6-8f0d-495f-be91-b36958eaf6ac"
      },
      "execution_count": 15,
      "outputs": [
        {
          "output_type": "execute_result",
          "data": {
            "text/plain": [
              "array([0., 0., 0.])"
            ]
          },
          "metadata": {},
          "execution_count": 15
        }
      ]
    },
    {
      "cell_type": "code",
      "source": [
        "np.zeros((5,5))"
      ],
      "metadata": {
        "colab": {
          "base_uri": "https://localhost:8080/"
        },
        "id": "ZbUIJgU5a55g",
        "outputId": "fe712410-17b0-4c49-fa35-1830963baa26"
      },
      "execution_count": 17,
      "outputs": [
        {
          "output_type": "execute_result",
          "data": {
            "text/plain": [
              "array([[0., 0., 0., 0., 0.],\n",
              "       [0., 0., 0., 0., 0.],\n",
              "       [0., 0., 0., 0., 0.],\n",
              "       [0., 0., 0., 0., 0.],\n",
              "       [0., 0., 0., 0., 0.]])"
            ]
          },
          "metadata": {},
          "execution_count": 17
        }
      ]
    },
    {
      "cell_type": "code",
      "source": [
        "np.ones(3)"
      ],
      "metadata": {
        "colab": {
          "base_uri": "https://localhost:8080/"
        },
        "id": "BzFrIu3pa8yp",
        "outputId": "6941210e-8584-4cd4-e5b8-f11c2f3ab5c1"
      },
      "execution_count": 18,
      "outputs": [
        {
          "output_type": "execute_result",
          "data": {
            "text/plain": [
              "array([1., 1., 1.])"
            ]
          },
          "metadata": {},
          "execution_count": 18
        }
      ]
    },
    {
      "cell_type": "code",
      "source": [
        "np.ones((5,5))"
      ],
      "metadata": {
        "colab": {
          "base_uri": "https://localhost:8080/"
        },
        "id": "hycVm2cibI-M",
        "outputId": "ae3d0924-bd80-4e66-e4ab-4d2d944bcce1"
      },
      "execution_count": 19,
      "outputs": [
        {
          "output_type": "execute_result",
          "data": {
            "text/plain": [
              "array([[1., 1., 1., 1., 1.],\n",
              "       [1., 1., 1., 1., 1.],\n",
              "       [1., 1., 1., 1., 1.],\n",
              "       [1., 1., 1., 1., 1.],\n",
              "       [1., 1., 1., 1., 1.]])"
            ]
          },
          "metadata": {},
          "execution_count": 19
        }
      ]
    },
    {
      "cell_type": "markdown",
      "source": [
        "3. linspace :- return evenly spaced numbers over a specified interval"
      ],
      "metadata": {
        "id": "Szwlu391bbL3"
      }
    },
    {
      "cell_type": "code",
      "source": [
        "np.linspace(0,10,6)"
      ],
      "metadata": {
        "colab": {
          "base_uri": "https://localhost:8080/"
        },
        "id": "-tUBwxk3bRbu",
        "outputId": "de500c63-d094-472e-90c3-086140b5b51f"
      },
      "execution_count": 23,
      "outputs": [
        {
          "output_type": "execute_result",
          "data": {
            "text/plain": [
              "array([ 0.,  2.,  4.,  6.,  8., 10.])"
            ]
          },
          "metadata": {},
          "execution_count": 23
        }
      ]
    },
    {
      "cell_type": "code",
      "source": [
        "np.linspace(0,10,50)"
      ],
      "metadata": {
        "colab": {
          "base_uri": "https://localhost:8080/"
        },
        "id": "Yyt5a0uDbwMO",
        "outputId": "64c87f90-5244-4d4b-ce01-ebb17bdad2db"
      },
      "execution_count": 24,
      "outputs": [
        {
          "output_type": "execute_result",
          "data": {
            "text/plain": [
              "array([ 0.        ,  0.20408163,  0.40816327,  0.6122449 ,  0.81632653,\n",
              "        1.02040816,  1.2244898 ,  1.42857143,  1.63265306,  1.83673469,\n",
              "        2.04081633,  2.24489796,  2.44897959,  2.65306122,  2.85714286,\n",
              "        3.06122449,  3.26530612,  3.46938776,  3.67346939,  3.87755102,\n",
              "        4.08163265,  4.28571429,  4.48979592,  4.69387755,  4.89795918,\n",
              "        5.10204082,  5.30612245,  5.51020408,  5.71428571,  5.91836735,\n",
              "        6.12244898,  6.32653061,  6.53061224,  6.73469388,  6.93877551,\n",
              "        7.14285714,  7.34693878,  7.55102041,  7.75510204,  7.95918367,\n",
              "        8.16326531,  8.36734694,  8.57142857,  8.7755102 ,  8.97959184,\n",
              "        9.18367347,  9.3877551 ,  9.59183673,  9.79591837, 10.        ])"
            ]
          },
          "metadata": {},
          "execution_count": 24
        }
      ]
    },
    {
      "cell_type": "markdown",
      "source": [
        "4. eye :- creates a identity matrix"
      ],
      "metadata": {
        "id": "O-PpK3YVcWkq"
      }
    },
    {
      "cell_type": "code",
      "source": [
        "np.eye(4)"
      ],
      "metadata": {
        "colab": {
          "base_uri": "https://localhost:8080/"
        },
        "id": "jiDUeFCocNYR",
        "outputId": "c3acb62f-df83-4a97-f2aa-c2a930f2bcb5"
      },
      "execution_count": 27,
      "outputs": [
        {
          "output_type": "execute_result",
          "data": {
            "text/plain": [
              "array([[1., 0., 0., 0.],\n",
              "       [0., 1., 0., 0.],\n",
              "       [0., 0., 1., 0.],\n",
              "       [0., 0., 0., 1.]])"
            ]
          },
          "metadata": {},
          "execution_count": 27
        }
      ]
    },
    {
      "cell_type": "code",
      "source": [
        "np.eye(7)"
      ],
      "metadata": {
        "colab": {
          "base_uri": "https://localhost:8080/"
        },
        "id": "21vQo_I0ccGt",
        "outputId": "6c58935b-a019-4f43-86f6-114a1110d9ee"
      },
      "execution_count": 28,
      "outputs": [
        {
          "output_type": "execute_result",
          "data": {
            "text/plain": [
              "array([[1., 0., 0., 0., 0., 0., 0.],\n",
              "       [0., 1., 0., 0., 0., 0., 0.],\n",
              "       [0., 0., 1., 0., 0., 0., 0.],\n",
              "       [0., 0., 0., 1., 0., 0., 0.],\n",
              "       [0., 0., 0., 0., 1., 0., 0.],\n",
              "       [0., 0., 0., 0., 0., 1., 0.],\n",
              "       [0., 0., 0., 0., 0., 0., 1.]])"
            ]
          },
          "metadata": {},
          "execution_count": 28
        }
      ]
    },
    {
      "cell_type": "markdown",
      "source": [
        "5. Random :- ways to create random arrays"
      ],
      "metadata": {
        "id": "5AwHr8lecs7h"
      }
    },
    {
      "cell_type": "markdown",
      "source": [
        "a. rand :-  create an array of given shape and populate it with random samples from a uniform distribution over [0,1)"
      ],
      "metadata": {
        "id": "3NqUG5OFc4WU"
      }
    },
    {
      "cell_type": "code",
      "source": [
        "np.random.rand(2)"
      ],
      "metadata": {
        "colab": {
          "base_uri": "https://localhost:8080/"
        },
        "id": "VC4GAglOcfRl",
        "outputId": "bd50fde6-9aca-4667-82dc-04c7d2219606"
      },
      "execution_count": 29,
      "outputs": [
        {
          "output_type": "execute_result",
          "data": {
            "text/plain": [
              "array([0.5065603 , 0.90061688])"
            ]
          },
          "metadata": {},
          "execution_count": 29
        }
      ]
    },
    {
      "cell_type": "code",
      "source": [
        "np.random.rand(46)"
      ],
      "metadata": {
        "colab": {
          "base_uri": "https://localhost:8080/"
        },
        "id": "ZR7RMUladJZl",
        "outputId": "869916b3-8dd9-4da5-c599-e7fb0eec160a"
      },
      "execution_count": 30,
      "outputs": [
        {
          "output_type": "execute_result",
          "data": {
            "text/plain": [
              "array([0.88642359, 0.51284555, 0.51453473, 0.19270633, 0.43117235,\n",
              "       0.1953502 , 0.67851802, 0.07037031, 0.08725762, 0.49511129,\n",
              "       0.56743192, 0.36451122, 0.68553413, 0.11047351, 0.38522895,\n",
              "       0.80713054, 0.24153213, 0.76127452, 0.67523585, 0.04767539,\n",
              "       0.0215844 , 0.73965122, 0.53919193, 0.61167769, 0.8254471 ,\n",
              "       0.1854736 , 0.35477198, 0.22023171, 0.73388552, 0.93403341,\n",
              "       0.30114577, 0.17930804, 0.08305201, 0.57626641, 0.66392171,\n",
              "       0.69745613, 0.30316624, 0.52878324, 0.47148174, 0.63542711,\n",
              "       0.02770006, 0.38533322, 0.69597559, 0.64832905, 0.97214354,\n",
              "       0.50158685])"
            ]
          },
          "metadata": {},
          "execution_count": 30
        }
      ]
    },
    {
      "cell_type": "code",
      "source": [
        "np.random.rand(10,10)"
      ],
      "metadata": {
        "colab": {
          "base_uri": "https://localhost:8080/"
        },
        "id": "BELh01j0dVDh",
        "outputId": "447cea55-d87e-470f-ba77-af37bd671431"
      },
      "execution_count": 33,
      "outputs": [
        {
          "output_type": "execute_result",
          "data": {
            "text/plain": [
              "array([[0.36985749, 0.22922279, 0.95900004, 0.91412982, 0.45440646,\n",
              "        0.55896899, 0.13666844, 0.85247611, 0.05980717, 0.98796474],\n",
              "       [0.56824205, 0.62976798, 0.02520328, 0.23324293, 0.61086684,\n",
              "        0.60589265, 0.43157771, 0.90203408, 0.15613907, 0.03353848],\n",
              "       [0.18242715, 0.45159094, 0.39699904, 0.43512088, 0.16741596,\n",
              "        0.43189582, 0.94762137, 0.37161047, 0.57455422, 0.8928216 ],\n",
              "       [0.5378521 , 0.00905216, 0.73753033, 0.90908049, 0.7236959 ,\n",
              "        0.59389447, 0.48739843, 0.43768295, 0.69414881, 0.42513986],\n",
              "       [0.02298353, 0.67985561, 0.73006903, 0.98861439, 0.43247521,\n",
              "        0.49397233, 0.68244514, 0.79014394, 0.45224198, 0.42243881],\n",
              "       [0.87876578, 0.45087875, 0.4561959 , 0.90804736, 0.09442943,\n",
              "        0.09329967, 0.7132067 , 0.89624553, 0.89237486, 0.0303809 ],\n",
              "       [0.31435911, 0.9338019 , 0.93600696, 0.80014636, 0.06306689,\n",
              "        0.6634794 , 0.02247646, 0.93858714, 0.64788586, 0.52757758],\n",
              "       [0.01590661, 0.8167569 , 0.59199525, 0.59777195, 0.46547905,\n",
              "        0.9194252 , 0.71734005, 0.59534042, 0.13440411, 0.98935246],\n",
              "       [0.64396465, 0.72144128, 0.5983906 , 0.53092232, 0.6114265 ,\n",
              "        0.62476018, 0.58882647, 0.24746998, 0.48538   , 0.14700034],\n",
              "       [0.2362732 , 0.8332814 , 0.19071935, 0.93712193, 0.52423206,\n",
              "        0.11164942, 0.50956563, 0.56427329, 0.4280971 , 0.81356021]])"
            ]
          },
          "metadata": {},
          "execution_count": 33
        }
      ]
    },
    {
      "cell_type": "markdown",
      "source": [
        "b. randn :- Return a sample (or samples ) from \"standard normal\" distribution ."
      ],
      "metadata": {
        "id": "bpkDGssUdSVr"
      }
    },
    {
      "cell_type": "code",
      "source": [
        "np.random.randn(2)"
      ],
      "metadata": {
        "colab": {
          "base_uri": "https://localhost:8080/"
        },
        "id": "T-jpabtYdOCa",
        "outputId": "e4fd9864-0779-46bb-ce43-8e43b3698b37"
      },
      "execution_count": 34,
      "outputs": [
        {
          "output_type": "execute_result",
          "data": {
            "text/plain": [
              "array([-0.75556271,  0.83267591])"
            ]
          },
          "metadata": {},
          "execution_count": 34
        }
      ]
    },
    {
      "cell_type": "code",
      "source": [
        "np.random.randn(45)"
      ],
      "metadata": {
        "colab": {
          "base_uri": "https://localhost:8080/"
        },
        "id": "gyiwVUrVds64",
        "outputId": "aeef9a7f-bba1-49ac-ce18-5435ad6c1ce9"
      },
      "execution_count": 36,
      "outputs": [
        {
          "output_type": "execute_result",
          "data": {
            "text/plain": [
              "array([ 0.63851385, -0.4518037 , -0.48303635,  2.10667196,  1.4054378 ,\n",
              "        0.39852909,  2.22142071, -1.39427858, -0.17609069,  0.16919945,\n",
              "        0.46753971,  0.25258042, -1.1991973 , -0.13453675,  0.0816233 ,\n",
              "        0.22907556,  0.13325448,  0.06353363, -0.85362248,  0.14579312,\n",
              "        0.88321343, -0.26771347,  0.49569053, -0.62158665, -0.09761883,\n",
              "       -0.6277701 , -0.46524301,  1.68310303,  0.30393726, -0.50075182,\n",
              "        0.13912733,  1.3483091 , -0.26803486, -2.07858789,  0.22404105,\n",
              "       -0.49406936,  0.21717894, -0.97011683, -0.78061801,  0.21562742,\n",
              "        0.43802372, -0.77776938,  2.53869511,  0.40677134,  1.03436822])"
            ]
          },
          "metadata": {},
          "execution_count": 36
        }
      ]
    },
    {
      "cell_type": "code",
      "source": [
        "np.random.randn(5,5)"
      ],
      "metadata": {
        "colab": {
          "base_uri": "https://localhost:8080/"
        },
        "id": "5X6urdebdvvf",
        "outputId": "fdb43a98-1e31-4616-8b7f-a6b03a14ad7b"
      },
      "execution_count": 38,
      "outputs": [
        {
          "output_type": "execute_result",
          "data": {
            "text/plain": [
              "array([[ 0.06830888, -0.54129652,  0.05461506, -0.32802562, -1.01788911],\n",
              "       [-0.64459445, -0.68517675, -0.30222823,  0.38527617, -1.36099884],\n",
              "       [-0.39228642, -0.15008353,  0.12318804,  0.27717824, -0.60358899],\n",
              "       [-1.48579182,  0.73746248, -1.13224705, -0.44825144, -1.40434625],\n",
              "       [-0.18013832,  1.09800936, -0.33595303,  0.1838324 ,  2.63828835]])"
            ]
          },
          "metadata": {},
          "execution_count": 38
        }
      ]
    },
    {
      "cell_type": "code",
      "source": [
        "np.random.randn(3,3)"
      ],
      "metadata": {
        "colab": {
          "base_uri": "https://localhost:8080/"
        },
        "id": "hrAPGeuyd3HT",
        "outputId": "a0dfdf58-b9a1-4f69-cd0d-f1c82323b6bc"
      },
      "execution_count": 40,
      "outputs": [
        {
          "output_type": "execute_result",
          "data": {
            "text/plain": [
              "array([[-0.17290448,  0.92930248,  1.77078783],\n",
              "       [-0.10872797,  0.24151945, -0.11214436],\n",
              "       [ 1.02008832,  0.18787328,  0.34050667]])"
            ]
          },
          "metadata": {},
          "execution_count": 40
        }
      ]
    },
    {
      "cell_type": "markdown",
      "source": [
        "c. randint :- random integers from low (inclusive ) to high (exclusive)"
      ],
      "metadata": {
        "id": "A4GB0n6zeR4A"
      }
    },
    {
      "cell_type": "code",
      "source": [
        "np.random.randint(1,100)"
      ],
      "metadata": {
        "colab": {
          "base_uri": "https://localhost:8080/"
        },
        "id": "ikXN4UGmd7jY",
        "outputId": "2857edf5-d1fa-48b0-acb4-c18040ec0a3c"
      },
      "execution_count": 41,
      "outputs": [
        {
          "output_type": "execute_result",
          "data": {
            "text/plain": [
              "10"
            ]
          },
          "metadata": {},
          "execution_count": 41
        }
      ]
    },
    {
      "cell_type": "code",
      "source": [
        "np.random.randint(1,599)"
      ],
      "metadata": {
        "colab": {
          "base_uri": "https://localhost:8080/"
        },
        "id": "iXF77syCeglW",
        "outputId": "6593061b-c8de-4ce9-959b-bc0d4948b500"
      },
      "execution_count": 42,
      "outputs": [
        {
          "output_type": "execute_result",
          "data": {
            "text/plain": [
              "423"
            ]
          },
          "metadata": {},
          "execution_count": 42
        }
      ]
    },
    {
      "cell_type": "code",
      "source": [
        "np.random.randint(0,1000,23)"
      ],
      "metadata": {
        "colab": {
          "base_uri": "https://localhost:8080/"
        },
        "id": "reEBxYFoejwy",
        "outputId": "fb10a669-cb72-4980-ac9e-5e164da55105"
      },
      "execution_count": 43,
      "outputs": [
        {
          "output_type": "execute_result",
          "data": {
            "text/plain": [
              "array([616, 154,  82, 794, 106, 750, 417, 945, 545,  16, 870, 703, 449,\n",
              "       584, 870, 872, 986, 608, 508, 593, 633, 927, 357])"
            ]
          },
          "metadata": {},
          "execution_count": 43
        }
      ]
    },
    {
      "cell_type": "markdown",
      "source": [
        "6. Attributes or Methods"
      ],
      "metadata": {
        "id": "G9qgGEmoetFR"
      }
    },
    {
      "cell_type": "code",
      "source": [
        "arr = np.arange(25)\n",
        "ranarr = np.random.randint(0,50,10)"
      ],
      "metadata": {
        "id": "6hRKZVbFepg0"
      },
      "execution_count": 44,
      "outputs": []
    },
    {
      "cell_type": "code",
      "source": [
        "print(arr)"
      ],
      "metadata": {
        "colab": {
          "base_uri": "https://localhost:8080/"
        },
        "id": "JBN2DeINfOce",
        "outputId": "4aaf520f-e893-40d8-a762-07bd0c3cbfe2"
      },
      "execution_count": 45,
      "outputs": [
        {
          "output_type": "stream",
          "name": "stdout",
          "text": [
            "[ 0  1  2  3  4  5  6  7  8  9 10 11 12 13 14 15 16 17 18 19 20 21 22 23\n",
            " 24]\n"
          ]
        }
      ]
    },
    {
      "cell_type": "code",
      "source": [
        "print(ranarr)"
      ],
      "metadata": {
        "colab": {
          "base_uri": "https://localhost:8080/"
        },
        "id": "0qVEM6lafQKW",
        "outputId": "49c237f7-3b40-4db8-b84a-dfc4fc5af301"
      },
      "execution_count": 46,
      "outputs": [
        {
          "output_type": "stream",
          "name": "stdout",
          "text": [
            "[ 8 43 23 10 26  8  2 31 16 48]\n"
          ]
        }
      ]
    },
    {
      "cell_type": "markdown",
      "source": [
        "7. **Reshape** :- returns an array containing the same data with a new shape"
      ],
      "metadata": {
        "id": "mmHslBtdfune"
      }
    },
    {
      "cell_type": "code",
      "source": [
        "arr.reshape(5,5)"
      ],
      "metadata": {
        "colab": {
          "base_uri": "https://localhost:8080/"
        },
        "id": "-b2wDPDPfRxa",
        "outputId": "9f3f75c8-6b66-4ddd-b377-9b83454dd628"
      },
      "execution_count": 47,
      "outputs": [
        {
          "output_type": "execute_result",
          "data": {
            "text/plain": [
              "array([[ 0,  1,  2,  3,  4],\n",
              "       [ 5,  6,  7,  8,  9],\n",
              "       [10, 11, 12, 13, 14],\n",
              "       [15, 16, 17, 18, 19],\n",
              "       [20, 21, 22, 23, 24]])"
            ]
          },
          "metadata": {},
          "execution_count": 47
        }
      ]
    },
    {
      "cell_type": "markdown",
      "source": [
        "8. max,min,argmax,argmin"
      ],
      "metadata": {
        "id": "uoUIVXOzgiPF"
      }
    },
    {
      "cell_type": "code",
      "source": [
        "ranarr"
      ],
      "metadata": {
        "colab": {
          "base_uri": "https://localhost:8080/"
        },
        "id": "WqsH9EfFgZHI",
        "outputId": "7744b928-32e1-43ca-f43e-749c22da349c"
      },
      "execution_count": 49,
      "outputs": [
        {
          "output_type": "execute_result",
          "data": {
            "text/plain": [
              "array([ 8, 43, 23, 10, 26,  8,  2, 31, 16, 48])"
            ]
          },
          "metadata": {},
          "execution_count": 49
        }
      ]
    },
    {
      "cell_type": "code",
      "source": [
        "ranarr.max() # gives the element"
      ],
      "metadata": {
        "colab": {
          "base_uri": "https://localhost:8080/"
        },
        "id": "v5M0buoYgoyL",
        "outputId": "a83d83e1-9d3d-4b53-8d0f-c19cdfc41486"
      },
      "execution_count": 50,
      "outputs": [
        {
          "output_type": "execute_result",
          "data": {
            "text/plain": [
              "48"
            ]
          },
          "metadata": {},
          "execution_count": 50
        }
      ]
    },
    {
      "cell_type": "code",
      "source": [
        "ranarr.argmax() # gives the index"
      ],
      "metadata": {
        "colab": {
          "base_uri": "https://localhost:8080/"
        },
        "id": "qM4ecOBtgrjD",
        "outputId": "bee4992e-56a1-4cf0-cb9d-8452b7db645d"
      },
      "execution_count": 51,
      "outputs": [
        {
          "output_type": "execute_result",
          "data": {
            "text/plain": [
              "9"
            ]
          },
          "metadata": {},
          "execution_count": 51
        }
      ]
    },
    {
      "cell_type": "code",
      "source": [
        "ranarr.min()"
      ],
      "metadata": {
        "colab": {
          "base_uri": "https://localhost:8080/"
        },
        "id": "Q9FDTOafgtwU",
        "outputId": "6efd937a-b921-4ddd-8b26-0d7a8b913b26"
      },
      "execution_count": 52,
      "outputs": [
        {
          "output_type": "execute_result",
          "data": {
            "text/plain": [
              "2"
            ]
          },
          "metadata": {},
          "execution_count": 52
        }
      ]
    },
    {
      "cell_type": "code",
      "source": [
        "ranarr.argmin()"
      ],
      "metadata": {
        "colab": {
          "base_uri": "https://localhost:8080/"
        },
        "id": "iXb-csCtgvlA",
        "outputId": "2f09d46d-c2c0-48ce-cb43-98fe46b2e3a9"
      },
      "execution_count": 53,
      "outputs": [
        {
          "output_type": "execute_result",
          "data": {
            "text/plain": [
              "6"
            ]
          },
          "metadata": {},
          "execution_count": 53
        }
      ]
    },
    {
      "cell_type": "markdown",
      "source": [
        "9. Shape :- it is a attribute"
      ],
      "metadata": {
        "id": "NTysjrdWhLzU"
      }
    },
    {
      "cell_type": "code",
      "source": [
        "arr.shape #vector"
      ],
      "metadata": {
        "colab": {
          "base_uri": "https://localhost:8080/"
        },
        "id": "GJ_G2L1lgxcP",
        "outputId": "9b7ee247-2264-407f-858d-088324be8c7a"
      },
      "execution_count": 54,
      "outputs": [
        {
          "output_type": "execute_result",
          "data": {
            "text/plain": [
              "(25,)"
            ]
          },
          "metadata": {},
          "execution_count": 54
        }
      ]
    },
    {
      "cell_type": "code",
      "source": [
        "#notice the two sets of brackets\n",
        "arr.reshape(1,25)"
      ],
      "metadata": {
        "colab": {
          "base_uri": "https://localhost:8080/"
        },
        "id": "-xPEC2mDhtIE",
        "outputId": "7a8867b6-7b08-434e-cafd-78e8c375928e"
      },
      "execution_count": 57,
      "outputs": [
        {
          "output_type": "execute_result",
          "data": {
            "text/plain": [
              "array([[ 0,  1,  2,  3,  4,  5,  6,  7,  8,  9, 10, 11, 12, 13, 14, 15,\n",
              "        16, 17, 18, 19, 20, 21, 22, 23, 24]])"
            ]
          },
          "metadata": {},
          "execution_count": 57
        }
      ]
    },
    {
      "cell_type": "code",
      "source": [
        "arr.reshape(25,1)"
      ],
      "metadata": {
        "colab": {
          "base_uri": "https://localhost:8080/"
        },
        "id": "CA2XHFbqh-uD",
        "outputId": "0c30c41d-0880-4376-e97b-ef11801544a0"
      },
      "execution_count": 58,
      "outputs": [
        {
          "output_type": "execute_result",
          "data": {
            "text/plain": [
              "array([[ 0],\n",
              "       [ 1],\n",
              "       [ 2],\n",
              "       [ 3],\n",
              "       [ 4],\n",
              "       [ 5],\n",
              "       [ 6],\n",
              "       [ 7],\n",
              "       [ 8],\n",
              "       [ 9],\n",
              "       [10],\n",
              "       [11],\n",
              "       [12],\n",
              "       [13],\n",
              "       [14],\n",
              "       [15],\n",
              "       [16],\n",
              "       [17],\n",
              "       [18],\n",
              "       [19],\n",
              "       [20],\n",
              "       [21],\n",
              "       [22],\n",
              "       [23],\n",
              "       [24]])"
            ]
          },
          "metadata": {},
          "execution_count": 58
        }
      ]
    },
    {
      "cell_type": "code",
      "source": [
        "arr.reshape(25,1).shape"
      ],
      "metadata": {
        "colab": {
          "base_uri": "https://localhost:8080/"
        },
        "id": "zfl2San8iAUo",
        "outputId": "c23335f6-6b17-4f82-eb08-251517fe97af"
      },
      "execution_count": 59,
      "outputs": [
        {
          "output_type": "execute_result",
          "data": {
            "text/plain": [
              "(25, 1)"
            ]
          },
          "metadata": {},
          "execution_count": 59
        }
      ]
    },
    {
      "cell_type": "markdown",
      "source": [
        "11. dtype :- grab the datatype of the object inside the given array"
      ],
      "metadata": {
        "id": "QQPchJOHiKVn"
      }
    },
    {
      "cell_type": "code",
      "source": [
        "arr.dtype"
      ],
      "metadata": {
        "colab": {
          "base_uri": "https://localhost:8080/"
        },
        "id": "bNRinjJXiFnM",
        "outputId": "172118f6-c1f0-441e-8726-5ca6af786ad0"
      },
      "execution_count": 61,
      "outputs": [
        {
          "output_type": "execute_result",
          "data": {
            "text/plain": [
              "dtype('int64')"
            ]
          },
          "metadata": {},
          "execution_count": 61
        }
      ]
    },
    {
      "cell_type": "markdown",
      "source": [
        "**NumPy Operations **"
      ],
      "metadata": {
        "id": "OjVuG9hNij2r"
      }
    },
    {
      "cell_type": "code",
      "source": [
        "arr = np.arange(0,10)\n",
        "arr"
      ],
      "metadata": {
        "colab": {
          "base_uri": "https://localhost:8080/"
        },
        "id": "7bK_jZGtiQOE",
        "outputId": "3c5a4121-e655-4304-cc87-ed11b62d745a"
      },
      "execution_count": 62,
      "outputs": [
        {
          "output_type": "execute_result",
          "data": {
            "text/plain": [
              "array([0, 1, 2, 3, 4, 5, 6, 7, 8, 9])"
            ]
          },
          "metadata": {},
          "execution_count": 62
        }
      ]
    },
    {
      "cell_type": "code",
      "source": [
        "arr + arr # dimension should match or else array will be out of bound"
      ],
      "metadata": {
        "colab": {
          "base_uri": "https://localhost:8080/"
        },
        "id": "94r0Buj9itKS",
        "outputId": "25287175-3997-49d4-9551-ace26e1bc0e8"
      },
      "execution_count": 63,
      "outputs": [
        {
          "output_type": "execute_result",
          "data": {
            "text/plain": [
              "array([ 0,  2,  4,  6,  8, 10, 12, 14, 16, 18])"
            ]
          },
          "metadata": {},
          "execution_count": 63
        }
      ]
    },
    {
      "cell_type": "code",
      "source": [
        "arr - arr"
      ],
      "metadata": {
        "colab": {
          "base_uri": "https://localhost:8080/"
        },
        "id": "lidgcG4eivx2",
        "outputId": "c41ec56c-682a-4170-dacb-81176476af32"
      },
      "execution_count": 64,
      "outputs": [
        {
          "output_type": "execute_result",
          "data": {
            "text/plain": [
              "array([0, 0, 0, 0, 0, 0, 0, 0, 0, 0])"
            ]
          },
          "metadata": {},
          "execution_count": 64
        }
      ]
    },
    {
      "cell_type": "code",
      "source": [
        "arr * arr"
      ],
      "metadata": {
        "colab": {
          "base_uri": "https://localhost:8080/"
        },
        "id": "lR09fXp5i2nQ",
        "outputId": "49c22c4f-da29-43d7-8719-4848b277876b"
      },
      "execution_count": 65,
      "outputs": [
        {
          "output_type": "execute_result",
          "data": {
            "text/plain": [
              "array([ 0,  1,  4,  9, 16, 25, 36, 49, 64, 81])"
            ]
          },
          "metadata": {},
          "execution_count": 65
        }
      ]
    },
    {
      "cell_type": "code",
      "source": [
        "#warning on divison by zero , but not an error\n",
        "# just replace with nan\n",
        "arr/arr"
      ],
      "metadata": {
        "colab": {
          "base_uri": "https://localhost:8080/"
        },
        "id": "_AwCQkUci413",
        "outputId": "efeda88c-ee13-44c5-c12c-20aa5a73438e"
      },
      "execution_count": 66,
      "outputs": [
        {
          "output_type": "stream",
          "name": "stderr",
          "text": [
            "<ipython-input-66-544060550b5e>:3: RuntimeWarning: invalid value encountered in true_divide\n",
            "  arr/arr\n"
          ]
        },
        {
          "output_type": "execute_result",
          "data": {
            "text/plain": [
              "array([nan,  1.,  1.,  1.,  1.,  1.,  1.,  1.,  1.,  1.])"
            ]
          },
          "metadata": {},
          "execution_count": 66
        }
      ]
    },
    {
      "cell_type": "code",
      "source": [
        "#also warning , but not an error insted infinity\n",
        "1/arr"
      ],
      "metadata": {
        "colab": {
          "base_uri": "https://localhost:8080/"
        },
        "id": "TXZXoB7MjZa3",
        "outputId": "2b4b93f1-02cf-4dcf-f362-88b350d1fb7f"
      },
      "execution_count": 67,
      "outputs": [
        {
          "output_type": "stream",
          "name": "stderr",
          "text": [
            "<ipython-input-67-a159a3e48a53>:2: RuntimeWarning: divide by zero encountered in true_divide\n",
            "  1/arr\n"
          ]
        },
        {
          "output_type": "execute_result",
          "data": {
            "text/plain": [
              "array([       inf, 1.        , 0.5       , 0.33333333, 0.25      ,\n",
              "       0.2       , 0.16666667, 0.14285714, 0.125     , 0.11111111])"
            ]
          },
          "metadata": {},
          "execution_count": 67
        }
      ]
    },
    {
      "cell_type": "code",
      "source": [
        "arr**4"
      ],
      "metadata": {
        "colab": {
          "base_uri": "https://localhost:8080/"
        },
        "id": "-_QdXUlyju3F",
        "outputId": "4b188a3a-9947-4e8b-ef72-d51d1c57357e"
      },
      "execution_count": 68,
      "outputs": [
        {
          "output_type": "execute_result",
          "data": {
            "text/plain": [
              "array([   0,    1,   16,   81,  256,  625, 1296, 2401, 4096, 6561])"
            ]
          },
          "metadata": {},
          "execution_count": 68
        }
      ]
    },
    {
      "cell_type": "markdown",
      "source": [
        "**Universal Array Functions **"
      ],
      "metadata": {
        "id": "I8SMxZ9YkC3R"
      }
    },
    {
      "cell_type": "code",
      "source": [
        "#taking square roots\n",
        "np.sqrt(arr)"
      ],
      "metadata": {
        "colab": {
          "base_uri": "https://localhost:8080/"
        },
        "id": "0Hxz_T8Vj6L5",
        "outputId": "7c15f782-fd0e-426a-d740-ef1d63a0ac49"
      },
      "execution_count": 69,
      "outputs": [
        {
          "output_type": "execute_result",
          "data": {
            "text/plain": [
              "array([0.        , 1.        , 1.41421356, 1.73205081, 2.        ,\n",
              "       2.23606798, 2.44948974, 2.64575131, 2.82842712, 3.        ])"
            ]
          },
          "metadata": {},
          "execution_count": 69
        }
      ]
    },
    {
      "cell_type": "code",
      "source": [
        "#calculating exponential(e^)\n",
        "np.exp(arr)"
      ],
      "metadata": {
        "colab": {
          "base_uri": "https://localhost:8080/"
        },
        "id": "i5c7zdWjkRWA",
        "outputId": "74265565-6156-4325-a1b2-3e0729407735"
      },
      "execution_count": 71,
      "outputs": [
        {
          "output_type": "execute_result",
          "data": {
            "text/plain": [
              "array([1.00000000e+00, 2.71828183e+00, 7.38905610e+00, 2.00855369e+01,\n",
              "       5.45981500e+01, 1.48413159e+02, 4.03428793e+02, 1.09663316e+03,\n",
              "       2.98095799e+03, 8.10308393e+03])"
            ]
          },
          "metadata": {},
          "execution_count": 71
        }
      ]
    },
    {
      "cell_type": "code",
      "source": [
        "np.max(arr) # same as arr.max()"
      ],
      "metadata": {
        "colab": {
          "base_uri": "https://localhost:8080/"
        },
        "id": "kCONkyczlX72",
        "outputId": "5ff0ca44-d69f-4b61-af22-cbf6c7496d67"
      },
      "execution_count": 73,
      "outputs": [
        {
          "output_type": "execute_result",
          "data": {
            "text/plain": [
              "9"
            ]
          },
          "metadata": {},
          "execution_count": 73
        }
      ]
    },
    {
      "cell_type": "code",
      "source": [
        "np.min(arr)"
      ],
      "metadata": {
        "colab": {
          "base_uri": "https://localhost:8080/"
        },
        "id": "LIREZF1Ala3V",
        "outputId": "f0411f25-ea6f-48ce-96db-8d0372f1d531"
      },
      "execution_count": 75,
      "outputs": [
        {
          "output_type": "execute_result",
          "data": {
            "text/plain": [
              "0"
            ]
          },
          "metadata": {},
          "execution_count": 75
        }
      ]
    },
    {
      "cell_type": "code",
      "source": [
        "np.sin(arr) # in radians"
      ],
      "metadata": {
        "colab": {
          "base_uri": "https://localhost:8080/"
        },
        "id": "z25642_JlhhV",
        "outputId": "ad1b9b6a-b046-47e5-e75f-da5f60dbfeea"
      },
      "execution_count": 76,
      "outputs": [
        {
          "output_type": "execute_result",
          "data": {
            "text/plain": [
              "array([ 0.        ,  0.84147098,  0.90929743,  0.14112001, -0.7568025 ,\n",
              "       -0.95892427, -0.2794155 ,  0.6569866 ,  0.98935825,  0.41211849])"
            ]
          },
          "metadata": {},
          "execution_count": 76
        }
      ]
    },
    {
      "cell_type": "code",
      "source": [
        "np.log(arr)"
      ],
      "metadata": {
        "colab": {
          "base_uri": "https://localhost:8080/"
        },
        "id": "y70Y2G4jlqss",
        "outputId": "e977003a-425e-4d1f-fabf-518cab72baf2"
      },
      "execution_count": 77,
      "outputs": [
        {
          "output_type": "stream",
          "name": "stderr",
          "text": [
            "<ipython-input-77-a67b4ae04e95>:1: RuntimeWarning: divide by zero encountered in log\n",
            "  np.log(arr)\n"
          ]
        },
        {
          "output_type": "execute_result",
          "data": {
            "text/plain": [
              "array([      -inf, 0.        , 0.69314718, 1.09861229, 1.38629436,\n",
              "       1.60943791, 1.79175947, 1.94591015, 2.07944154, 2.19722458])"
            ]
          },
          "metadata": {},
          "execution_count": 77
        }
      ]
    }
  ]
}